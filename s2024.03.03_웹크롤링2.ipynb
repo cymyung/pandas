{
 "cells": [
  {
   "cell_type": "code",
   "execution_count": 1,
   "id": "8294e54b",
   "metadata": {},
   "outputs": [],
   "source": [
    "import pandas as pd\n",
    "import requests # 웹사이트에 직접 접근\n",
    "from bs4 import BeautifulSoup\n",
    "from time import sleep"
   ]
  },
  {
   "cell_type": "code",
   "execution_count": 2,
   "id": "0e98a029",
   "metadata": {},
   "outputs": [
    {
     "name": "stdout",
     "output_type": "stream",
     "text": [
      "<Response [200]>\n",
      "{'Content-Type': 'text/html', 'Last-Modified': 'Sun, 03 Mar 2024 05:28:33 GMT', 'Accept-Ranges': 'bytes', 'ETag': '\"85844da22b6dda1:0\"', 'Server': 'Microsoft-IIS/10.0', 'Date': 'Sat, 09 Mar 2024 00:59:18 GMT', 'Content-Length': '943'}\n",
      "ISO-8859-1\n",
      "<html>\r\n",
      "\t<head>\r\n",
      "\t\t<title>테이블의 구조</title>\r\n",
      "\t\t<meta charset=\"UTF-8\" />\r\n",
      "\t\t<style>\r\n",
      "\t\t\ttable {border:1px solid #000;}\r\n",
      "\t\t\ttable th {color:red; background-color: #dcdcdc; border:1px solid #ff0000;}\r\n",
      "\t\t\ttable td {border:1px solid #0094ff;}\r\n",
      "\t\t</style>\r\n",
      "\t</head>\r\n",
      "\t<body>\r\n",
      "\t\t다음은 테이블의 예입니다.\r\n",
      "\t\t<table>\r\n",
      "\t\t\t<thead>\r\n",
      "\t\t\t\t<tr>\r\n",
      "\t\t\t\t\t<th>1번째 필드</th>\r\n",
      "\t\t\t\t\t<th>2번째 필드</th>\r\n",
      "\t\t\t\t\t<th>3번째 필드</th>\r\n",
      "\t\t\t\t</tr>\r\n",
      "\t\t\t</thead>\r\n",
      "\t\t\t<tbody>\r\n",
      "\t\t\t\t<tr>\r\n",
      "\t\t\t\t\t<td>1행_1번째</td>\r\n",
      "\t\t\t\t\t<td>1행_2번째</td>\r\n",
      "\t\t\t\t\t<td>1행_3번째</td>\r\n",
      "\t\t\t\t</tr>\r\n",
      "\t\t\t\t<tr>\r\n",
      "\t\t\t\t\t<td>2행_1번째</td>\r\n",
      "\t\t\t\t\t<td>2행_2번째</td>\r\n",
      "\t\t\t\t\t<td>2행_3번째</td>\r\n",
      "\t\t\t\t</tr>\r\n",
      "\t\t\t\t<tr>\r\n",
      "\t\t\t\t\t<td>3행_1번째</td>\r\n",
      "\t\t\t\t\t<td>3행_2번째</td>\r\n",
      "\t\t\t\t\t<td>3행_3번째</td>\r\n",
      "\t\t\t\t</tr>\r\n",
      "\t\t\t\t<tr>\r\n",
      "\t\t\t\t\t<td>4행_1번째</td>\r\n",
      "\t\t\t\t\t<td>4행_2번째</td>\r\n",
      "\t\t\t\t\t<td>4행_3번째</td>\r\n",
      "\t\t\t\t</tr>\r\n",
      "\t\t\t</tbody>\r\n",
      "\t\t</table>\r\n",
      "\t</body>\r\n",
      "</html>\r\n",
      "\n"
     ]
    }
   ],
   "source": [
    "#1. 웹(html) 문서 불러오기\n",
    "#clien 요청 -> requests.get('http://url주소')\n",
    "#              response = headers + content     <- server 응답\n",
    "# response(응답)은 headers + content으로 구성되어 있다.\n",
    "# response.headers 는 응답의 http 헤더 내용이 dict 형태로 조회\n",
    "# response.content 는 http 바디의 내용을 binary(그림,압축,문서) 코드로 조회\n",
    "# response.text    는 http 바디의 내용을 text(텍스트, http문서) 문자로 조회\n",
    "# response.encoding은 http 바디가 어떤 인코딩 방식으로 만들어졌는지 조회\n",
    "\n",
    "url = 'http://192.168.50.54/index.html'\n",
    "response = requests.get(url)\n",
    "print(response)\n",
    "print(response.headers)\n",
    "#print(response.content)\n",
    "print(response.encoding)\n",
    "response.encoding = 'utf-8'\n",
    "print(response.text)"
   ]
  },
  {
   "cell_type": "code",
   "execution_count": 3,
   "id": "ed069b08",
   "metadata": {
    "scrolled": true
   },
   "outputs": [
    {
     "data": {
      "text/plain": [
       "[['1행_1번째', '1행_2번째', '1행_3번째'],\n",
       " ['2행_1번째', '2행_2번째', '2행_3번째'],\n",
       " ['3행_1번째', '3행_2번째', '3행_3번째'],\n",
       " ['4행_1번째', '4행_2번째', '4행_3번째']]"
      ]
     },
     "execution_count": 3,
     "metadata": {},
     "output_type": "execute_result"
    }
   ],
   "source": [
    "#2. 웹문서의 내용(str, 문자열)을 분석가능한 객체(bs4.BeautifulSoup) 생성(변수는 tag로 지정)\n",
    "#3. find, find_all 메소드 등을 이용하여 특정한 <tag> 블럭 조회\n",
    "text = response.text\n",
    "html = BeautifulSoup(text, 'html.parser')\n",
    "\n",
    "tr_list = html.find('table').find('tbody').find_all('tr')\n",
    "\n",
    "rows=[]\n",
    "for tr in tr_list:\n",
    "    td_list = tr.find_all('td')\n",
    "    row = []\n",
    "    for td in td_list:\n",
    "        data = td.text\n",
    "        row.append(data)\n",
    "    rows.append(row)\n",
    "rows"
   ]
  },
  {
   "cell_type": "code",
   "execution_count": 4,
   "id": "1d546c63",
   "metadata": {},
   "outputs": [
    {
     "name": "stdout",
     "output_type": "stream",
     "text": [
      "{'Content-Type': 'text/html', 'Content-Encoding': 'gzip', 'Last-Modified': 'Mon, 07 Mar 2022 23:16:00 GMT', 'Accept-Ranges': 'bytes', 'ETag': '\"0b8af4e7932d81:0\"', 'Vary': 'Accept-Encoding', 'Server': 'Microsoft-IIS/10.0', 'Date': 'Sat, 09 Mar 2024 00:59:18 GMT', 'Content-Length': '2727'}\n",
      "<html>\r\n",
      "\t<head>\r\n",
      "\t\t<title>This is jsoup test page</title>\r\n",
      "\r\n",
      "\t\t<script src=\"add/jquery-1.10.2.min.js\n"
     ]
    }
   ],
   "source": [
    "#웹에서 직접 갖고 오기\n",
    "url = 'http://192.168.50.54/professors.html'\n",
    "response = requests.get(url)\n",
    "#response = headers + content(text.jpeg)\n",
    "print(response.headers)\n",
    "text = response.text\n",
    "print(text[:100])"
   ]
  },
  {
   "cell_type": "code",
   "execution_count": 5,
   "id": "81adf984",
   "metadata": {},
   "outputs": [],
   "source": [
    "html = BeautifulSoup(text,'html.parser')"
   ]
  },
  {
   "cell_type": "code",
   "execution_count": 6,
   "id": "47b764cf",
   "metadata": {},
   "outputs": [
    {
     "name": "stdout",
     "output_type": "stream",
     "text": [
      "7\n",
      "['1', 'John', 'C Language']\n",
      "['2', 'Kim', 'JAVA']\n",
      "['3', 'Gun', 'PHP / Python']\n",
      "['4', 'Hun', 'Soccer']\n",
      "['5', 'Coner', 'Smart Car']\n"
     ]
    },
    {
     "data": {
      "text/html": [
       "<div>\n",
       "<style scoped>\n",
       "    .dataframe tbody tr th:only-of-type {\n",
       "        vertical-align: middle;\n",
       "    }\n",
       "\n",
       "    .dataframe tbody tr th {\n",
       "        vertical-align: top;\n",
       "    }\n",
       "\n",
       "    .dataframe thead th {\n",
       "        text-align: right;\n",
       "    }\n",
       "</style>\n",
       "<table border=\"1\" class=\"dataframe\">\n",
       "  <thead>\n",
       "    <tr style=\"text-align: right;\">\n",
       "      <th></th>\n",
       "      <th>0</th>\n",
       "      <th>1</th>\n",
       "      <th>2</th>\n",
       "    </tr>\n",
       "  </thead>\n",
       "  <tbody>\n",
       "    <tr>\n",
       "      <th>0</th>\n",
       "      <td>1</td>\n",
       "      <td>John</td>\n",
       "      <td>C Language</td>\n",
       "    </tr>\n",
       "    <tr>\n",
       "      <th>1</th>\n",
       "      <td>2</td>\n",
       "      <td>Kim</td>\n",
       "      <td>JAVA</td>\n",
       "    </tr>\n",
       "    <tr>\n",
       "      <th>2</th>\n",
       "      <td>3</td>\n",
       "      <td>Gun</td>\n",
       "      <td>PHP / Python</td>\n",
       "    </tr>\n",
       "    <tr>\n",
       "      <th>3</th>\n",
       "      <td>4</td>\n",
       "      <td>Hun</td>\n",
       "      <td>Soccer</td>\n",
       "    </tr>\n",
       "    <tr>\n",
       "      <th>4</th>\n",
       "      <td>5</td>\n",
       "      <td>Coner</td>\n",
       "      <td>Smart Car</td>\n",
       "    </tr>\n",
       "  </tbody>\n",
       "</table>\n",
       "</div>"
      ],
      "text/plain": [
       "   0      1             2\n",
       "0  1   John    C Language\n",
       "1  2    Kim          JAVA\n",
       "2  3    Gun  PHP / Python\n",
       "3  4    Hun        Soccer\n",
       "4  5  Coner     Smart Car"
      ]
     },
     "execution_count": 6,
     "metadata": {},
     "output_type": "execute_result"
    }
   ],
   "source": [
    "print(len(html.find_all('tr')))\n",
    "tr_list = html.tbody.find_all('tr')\n",
    "\n",
    "rows = []\n",
    "for tr in tr_list:\n",
    "    no = tr.find('td',{'class':'number'}).text\n",
    "    name = tr.find('td',{'class':'professor'}).text\n",
    "    lecture = tr.find('td',{'class':'lecture'}).text\n",
    "    row = [no,name,lecture]\n",
    "    rows.append(row)\n",
    "    print(row)\n",
    "    \n",
    "pd.DataFrame(rows)"
   ]
  },
  {
   "cell_type": "code",
   "execution_count": 7,
   "id": "10d80276",
   "metadata": {},
   "outputs": [
    {
     "name": "stdout",
     "output_type": "stream",
     "text": [
      "<td class=\"number\">1</td>\n",
      "<td class=\"professor\">John</td>\n",
      "\n",
      "<td class=\"number\">1</td>\n",
      "\n",
      "<td class=\"number\">1</td>\n",
      "<td class=\"professor\">John</td>\n",
      "<td class=\"lecture\">C Language</td>\n"
     ]
    }
   ],
   "source": [
    "tr = tr_list[0]\n",
    "print(tr.find_all('td')[0])\n",
    "print(tr.find_all('td')[1])\n",
    "# 이 방법은 좋은 방법이 아니다. \n",
    "# find('tag',{'attr':'value'})     :<tag attr='value'>...</tag>으로 구성된 태그블럭중 \n",
    "#                                   가장 처음 발견된 블럭을 반환한다.\n",
    "# find_all('tag',{'attr':'value'}) :<tag attr='value'>...</tag>으로 구성된 태그블럭들을 \n",
    "#                                   모두 묶어서 목록으로 반환한다.\n",
    "# find('td')\n",
    "#   -> <td class='number'>1</td>\n",
    "# find('td', {'class':'number'}) 다 못썼음. 아래 실제 코드를 볼 것\n",
    "#   -> <td class='number'>1</td>\n",
    "# find('td')\n",
    "#   -> <td class='number'>1</td>  다 못썼음.\n",
    "print()\n",
    "print(tr.find('td'))\n",
    "print()\n",
    "print(tr.find('td',{'class':'number'}))\n",
    "print(tr.find('td',{'class':'professor'}))\n",
    "print(tr.find('td',{'class':'lecture'}))"
   ]
  },
  {
   "cell_type": "code",
   "execution_count": 8,
   "id": "debf73f3",
   "metadata": {},
   "outputs": [],
   "source": [
    "#20240309"
   ]
  },
  {
   "cell_type": "code",
   "execution_count": 9,
   "id": "487eff56",
   "metadata": {},
   "outputs": [
    {
     "data": {
      "text/plain": [
       "<td class=\"grade hidden-xs\">2</td>"
      ]
     },
     "execution_count": 9,
     "metadata": {},
     "output_type": "execute_result"
    }
   ],
   "source": [
    "tr = tr_list[0]\n",
    "tr.find('td',{'class':'grade'})"
   ]
  },
  {
   "cell_type": "code",
   "execution_count": 10,
   "id": "0b41f8b8",
   "metadata": {},
   "outputs": [
    {
     "data": {
      "text/plain": [
       "'2'"
      ]
     },
     "execution_count": 10,
     "metadata": {},
     "output_type": "execute_result"
    }
   ],
   "source": [
    "grade = tr.find('td',{'class':'grade'}).text"
   ]
  },
  {
   "cell_type": "code",
   "execution_count": 11,
   "id": "18393e44",
   "metadata": {},
   "outputs": [],
   "source": [
    "evaluation = tr.find('td',{'class':'evaluation'}).text"
   ]
  },
  {
   "cell_type": "code",
   "execution_count": 12,
   "id": "796eca57",
   "metadata": {},
   "outputs": [
    {
     "data": {
      "text/plain": [
       "'1P'"
      ]
     },
     "execution_count": 12,
     "metadata": {},
     "output_type": "execute_result"
    }
   ],
   "source": [
    "evaluation"
   ]
  },
  {
   "cell_type": "code",
   "execution_count": 13,
   "id": "29680d85",
   "metadata": {},
   "outputs": [
    {
     "data": {
      "text/html": [
       "<div>\n",
       "<style scoped>\n",
       "    .dataframe tbody tr th:only-of-type {\n",
       "        vertical-align: middle;\n",
       "    }\n",
       "\n",
       "    .dataframe tbody tr th {\n",
       "        vertical-align: top;\n",
       "    }\n",
       "\n",
       "    .dataframe thead th {\n",
       "        text-align: right;\n",
       "    }\n",
       "</style>\n",
       "<table border=\"1\" class=\"dataframe\">\n",
       "  <thead>\n",
       "    <tr style=\"text-align: right;\">\n",
       "      <th></th>\n",
       "      <th>0</th>\n",
       "      <th>1</th>\n",
       "      <th>2</th>\n",
       "    </tr>\n",
       "  </thead>\n",
       "  <tbody>\n",
       "    <tr>\n",
       "      <th>0</th>\n",
       "      <td>1</td>\n",
       "      <td>John</td>\n",
       "      <td>C Language</td>\n",
       "    </tr>\n",
       "    <tr>\n",
       "      <th>1</th>\n",
       "      <td>2</td>\n",
       "      <td>Kim</td>\n",
       "      <td>JAVA</td>\n",
       "    </tr>\n",
       "    <tr>\n",
       "      <th>2</th>\n",
       "      <td>3</td>\n",
       "      <td>Gun</td>\n",
       "      <td>PHP / Python</td>\n",
       "    </tr>\n",
       "    <tr>\n",
       "      <th>3</th>\n",
       "      <td>4</td>\n",
       "      <td>Hun</td>\n",
       "      <td>Soccer</td>\n",
       "    </tr>\n",
       "    <tr>\n",
       "      <th>4</th>\n",
       "      <td>5</td>\n",
       "      <td>Coner</td>\n",
       "      <td>Smart Car</td>\n",
       "    </tr>\n",
       "  </tbody>\n",
       "</table>\n",
       "</div>"
      ],
      "text/plain": [
       "   0      1             2\n",
       "0  1   John    C Language\n",
       "1  2    Kim          JAVA\n",
       "2  3    Gun  PHP / Python\n",
       "3  4    Hun        Soccer\n",
       "4  5  Coner     Smart Car"
      ]
     },
     "execution_count": 13,
     "metadata": {},
     "output_type": "execute_result"
    }
   ],
   "source": [
    "html = BeautifulSoup(text, 'html.parser')\n",
    "tr_list = html.find('tbody').find_all('tr')\n",
    "rows = []\n",
    "for tr in tr_list:\n",
    "    no = tr.find('td', {'class':'number'}).text\n",
    "    name = tr.find('td', {'class':'professor'}).text\n",
    "    lecture = tr.find('td', {'class':'lecture'}).text\n",
    "    grade = tr.find('td', {'class':'grade'}).text\n",
    "    eval = tr.find('td', {'class':'evaluation'}).text\n",
    "    row = [no, name, lecture]\n",
    "    rows.append(row)\n",
    "pd.DataFrame(rows)"
   ]
  },
  {
   "cell_type": "code",
   "execution_count": null,
   "id": "c625a6b2",
   "metadata": {},
   "outputs": [],
   "source": [
    "tr = tr_list[0]\n",
    "grade = tr.find('td', {'class':'grade'}).text\n",
    "evl = tr.find('td', {'class':'evaluation'}).text\n"
   ]
  }
 ],
 "metadata": {
  "kernelspec": {
   "display_name": "Python 3 (ipykernel)",
   "language": "python",
   "name": "python3"
  },
  "language_info": {
   "codemirror_mode": {
    "name": "ipython",
    "version": 3
   },
   "file_extension": ".py",
   "mimetype": "text/x-python",
   "name": "python",
   "nbconvert_exporter": "python",
   "pygments_lexer": "ipython3",
   "version": "3.11.5"
  }
 },
 "nbformat": 4,
 "nbformat_minor": 5
}
