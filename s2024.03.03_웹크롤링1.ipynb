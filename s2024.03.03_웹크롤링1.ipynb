{
 "cells": [
  {
   "cell_type": "code",
   "execution_count": 37,
   "id": "dd9fc805",
   "metadata": {},
   "outputs": [],
   "source": [
    "# 0. bs4 모듈의 BeautifulSoup 클래스 사용\n",
    "import pandas as pd\n",
    "import requests\n",
    "from bs4 import BeautifulSoup\n",
    "from time import sleep"
   ]
  },
  {
   "cell_type": "code",
   "execution_count": 5,
   "id": "007df403",
   "metadata": {},
   "outputs": [
    {
     "name": "stdout",
     "output_type": "stream",
     "text": [
      "<class 'str'>\n",
      "<html lang = 'ko'>\n",
      "\t<head>\n",
      "\t\t<title> 명창연의 홈페이지입니다.</title>\n",
      "\n",
      "\n"
     ]
    }
   ],
   "source": [
    "#1. 웹(html) 문서 불러오기\n",
    "# 1-1 다운받아 놓은 웹 문서 불러오기\n",
    "file = open('html/index.html',encoding = 'utf-8')\n",
    "read = file.read()\n",
    "file.close()\n",
    "\n",
    "print(type(read))\n",
    "print(read[:60])"
   ]
  },
  {
   "cell_type": "code",
   "execution_count": 7,
   "id": "7e88ed4d",
   "metadata": {},
   "outputs": [
    {
     "name": "stdout",
     "output_type": "stream",
     "text": [
      "<class 'bs4.BeautifulSoup'>\n"
     ]
    }
   ],
   "source": [
    "#2. 웹문서의 내용(str, 문자열)을 분석가능한 객체(bs4.BeautifulSoup) 생성(변수는 tag로 지정)\n",
    "html = BeautifulSoup(read, 'html.parser')\n",
    "print(type(html))"
   ]
  },
  {
   "cell_type": "code",
   "execution_count": 14,
   "id": "87890f7d",
   "metadata": {},
   "outputs": [
    {
     "name": "stdout",
     "output_type": "stream",
     "text": [
      "<class 'bs4.element.Tag'>\n",
      "사이트제목:  명창연의 홈페이지입니다.\n"
     ]
    }
   ],
   "source": [
    "#3. find, find_all 메소드 등을 이용하여 특정한 <tag> 블럭 조회\n",
    "title = html.find('title')\n",
    "print(type(title))\n",
    "print('사이트제목:',title.text)"
   ]
  },
  {
   "cell_type": "code",
   "execution_count": 20,
   "id": "9acc79ad",
   "metadata": {},
   "outputs": [],
   "source": [
    "li_list = html.find_all('li')"
   ]
  },
  {
   "cell_type": "code",
   "execution_count": 22,
   "id": "bca30dcf",
   "metadata": {},
   "outputs": [
    {
     "name": "stdout",
     "output_type": "stream",
     "text": [
      "game\n",
      "travel\n",
      "movie\n",
      "cleaning\n",
      "arrangement\n",
      "punishment\n"
     ]
    }
   ],
   "source": [
    "for li in li_list:\n",
    "    print(li.text) #.text를 넣으면 text만 뽑아준다."
   ]
  },
  {
   "cell_type": "code",
   "execution_count": 27,
   "id": "4e5aba04",
   "metadata": {},
   "outputs": [
    {
     "data": {
      "text/plain": [
       "['game', 'travel', 'movie', 'cleaning', 'arrangement', 'punishment']"
      ]
     },
     "execution_count": 27,
     "metadata": {},
     "output_type": "execute_result"
    }
   ],
   "source": [
    "datas=[]\n",
    "for li in li_list:\n",
    "    datas.append(li.text)\n",
    "    \n",
    "datas"
   ]
  },
  {
   "cell_type": "code",
   "execution_count": 28,
   "id": "2d8174a5",
   "metadata": {},
   "outputs": [],
   "source": [
    "# 위의 것은 좋아하는것 싫어하는 것 구분이 안되므로 이를 구분할 필요가 있음. \n",
    "# 그러므로 2차원으로 만들어야 한다."
   ]
  },
  {
   "cell_type": "code",
   "execution_count": 35,
   "id": "a6e8699b",
   "metadata": {},
   "outputs": [
    {
     "name": "stdout",
     "output_type": "stream",
     "text": [
      "<li>game</li>\n",
      "------------------------\n",
      "<li>travel</li>\n",
      "------------------------\n",
      "<li>movie</li>\n",
      "------------------------\n",
      "=============================\n",
      "<li>cleaning</li>\n",
      "------------------------\n",
      "<li>arrangement</li>\n",
      "------------------------\n",
      "<li>punishment</li>\n",
      "------------------------\n",
      "=============================\n"
     ]
    }
   ],
   "source": [
    "ul_list = html.find_all('ul')\n",
    "\n",
    "for ul in ul_list:\n",
    "    li_list = ul.find_all('li')\n",
    "    for li in li_list:\n",
    "        print(li)\n",
    "        print('------------------------')\n",
    "    print('=============================')\n",
    "    "
   ]
  },
  {
   "cell_type": "code",
   "execution_count": 39,
   "id": "cf8d3962",
   "metadata": {},
   "outputs": [
    {
     "name": "stdout",
     "output_type": "stream",
     "text": [
      "[]\n",
      "['game']\n",
      "['game', 'travel']\n",
      "['game', 'travel', 'movie']\n",
      "[['game', 'travel', 'movie']]\n",
      "[]\n",
      "['cleaning']\n",
      "['cleaning', 'arrangement']\n",
      "['cleaning', 'arrangement', 'punishment']\n",
      "[['game', 'travel', 'movie'], ['cleaning', 'arrangement', 'punishment']]\n"
     ]
    },
    {
     "data": {
      "text/plain": [
       "[['game', 'travel', 'movie'], ['cleaning', 'arrangement', 'punishment']]"
      ]
     },
     "execution_count": 39,
     "metadata": {},
     "output_type": "execute_result"
    }
   ],
   "source": [
    "ul_list = html.find_all('ul')\n",
    "\n",
    "rows = []\n",
    "for ul in ul_list:\n",
    "    li_list = ul.find_all('li')\n",
    "    row = []\n",
    "    print(row)\n",
    "    for li in li_list:\n",
    "        data = li.text\n",
    "        row.append(data)\n",
    "        print(row)\n",
    "        sleep(1)\n",
    "    rows.append(row)\n",
    "    print(rows)\n",
    "\n",
    "rows"
   ]
  },
  {
   "cell_type": "code",
   "execution_count": null,
   "id": "2cd73eb6",
   "metadata": {},
   "outputs": [],
   "source": [
    "#table html 불러와서 열기"
   ]
  },
  {
   "cell_type": "code",
   "execution_count": 71,
   "id": "a0c74c56",
   "metadata": {},
   "outputs": [
    {
     "name": "stdout",
     "output_type": "stream",
     "text": [
      "hong\n",
      "------------\n",
      "홍길동\n",
      "------------\n",
      "23\n",
      "------------\n",
      "경기\n",
      "------------\n",
      "================\n",
      "hwang\n",
      "------------\n",
      "황진이\n",
      "------------\n",
      "25\n",
      "------------\n",
      "서울\n",
      "------------\n",
      "================\n",
      "dog\n",
      "------------\n",
      "멍멍이\n",
      "------------\n",
      "5\n",
      "------------\n",
      "서울\n",
      "------------\n",
      "================\n",
      "cat\n",
      "------------\n",
      "야옹이\n",
      "------------\n",
      "3\n",
      "------------\n",
      "울룽\n",
      "------------\n",
      "================\n"
     ]
    }
   ],
   "source": [
    "file = open('html/table.html', 'r', encoding = 'utf-8')\n",
    "read = file.read()\n",
    "file.close()\n",
    "\n",
    "html = BeautifulSoup(read, 'html.parser')\n",
    "\n",
    "html.find('td')\n",
    "#thead를 불러오지 않기 위해서, \n",
    "#html.find('table'),find('tbody').find_all('tr') 형식으로 불러온다.\n",
    "#그런데, find('table').find('tbody')는 하나 밖에 없으므로 생략 가능\n",
    "\n",
    "tr_list = html.find('table').find('tbody').find_all('tr')\n",
    "\n",
    "for tr in tr_list:\n",
    "    td_list = tr.find_all('td')\n",
    "    \n",
    "\n",
    "    for td in td_list:\n",
    "        print(td.text)\n",
    "        print('------------')\n",
    "\n",
    "    print('================')\n"
   ]
  },
  {
   "cell_type": "code",
   "execution_count": 79,
   "id": "610e4499",
   "metadata": {},
   "outputs": [
    {
     "data": {
      "text/plain": [
       "[['hong', '홍길동', '23', '경기'],\n",
       " ['hwang', '황진이', '25', '서울'],\n",
       " ['dog', '멍멍이', '5', '서울'],\n",
       " ['cat', '야옹이', '3', '울룽']]"
      ]
     },
     "execution_count": 79,
     "metadata": {},
     "output_type": "execute_result"
    }
   ],
   "source": [
    "tr_list = html.find('table').find('tbody').find_all('tr')\n",
    "\n",
    "rows=[]\n",
    "for tr in tr_list:\n",
    "    td_list = tr.find_all('td')\n",
    "    row = []\n",
    "    for td in td_list:\n",
    "        data = td.text\n",
    "        row.append(data)\n",
    "    rows.append(row)\n",
    "rows"
   ]
  },
  {
   "cell_type": "code",
   "execution_count": 83,
   "id": "d9372688",
   "metadata": {},
   "outputs": [],
   "source": [
    "df = pd.DataFrame(rows,columns=['id','name','age','addr'])\n",
    "df.set_index('id',inplace=True)"
   ]
  },
  {
   "cell_type": "code",
   "execution_count": 84,
   "id": "3adc8c5d",
   "metadata": {},
   "outputs": [
    {
     "data": {
      "text/html": [
       "<div>\n",
       "<style scoped>\n",
       "    .dataframe tbody tr th:only-of-type {\n",
       "        vertical-align: middle;\n",
       "    }\n",
       "\n",
       "    .dataframe tbody tr th {\n",
       "        vertical-align: top;\n",
       "    }\n",
       "\n",
       "    .dataframe thead th {\n",
       "        text-align: right;\n",
       "    }\n",
       "</style>\n",
       "<table border=\"1\" class=\"dataframe\">\n",
       "  <thead>\n",
       "    <tr style=\"text-align: right;\">\n",
       "      <th></th>\n",
       "      <th>name</th>\n",
       "      <th>age</th>\n",
       "      <th>addr</th>\n",
       "    </tr>\n",
       "    <tr>\n",
       "      <th>id</th>\n",
       "      <th></th>\n",
       "      <th></th>\n",
       "      <th></th>\n",
       "    </tr>\n",
       "  </thead>\n",
       "  <tbody>\n",
       "    <tr>\n",
       "      <th>hong</th>\n",
       "      <td>홍길동</td>\n",
       "      <td>23</td>\n",
       "      <td>경기</td>\n",
       "    </tr>\n",
       "    <tr>\n",
       "      <th>hwang</th>\n",
       "      <td>황진이</td>\n",
       "      <td>25</td>\n",
       "      <td>서울</td>\n",
       "    </tr>\n",
       "    <tr>\n",
       "      <th>dog</th>\n",
       "      <td>멍멍이</td>\n",
       "      <td>5</td>\n",
       "      <td>서울</td>\n",
       "    </tr>\n",
       "    <tr>\n",
       "      <th>cat</th>\n",
       "      <td>야옹이</td>\n",
       "      <td>3</td>\n",
       "      <td>울룽</td>\n",
       "    </tr>\n",
       "  </tbody>\n",
       "</table>\n",
       "</div>"
      ],
      "text/plain": [
       "      name age addr\n",
       "id                 \n",
       "hong   홍길동  23   경기\n",
       "hwang  황진이  25   서울\n",
       "dog    멍멍이   5   서울\n",
       "cat    야옹이   3   울룽"
      ]
     },
     "execution_count": 84,
     "metadata": {},
     "output_type": "execute_result"
    }
   ],
   "source": [
    "df"
   ]
  },
  {
   "cell_type": "code",
   "execution_count": null,
   "id": "c15adf79",
   "metadata": {},
   "outputs": [],
   "source": []
  }
 ],
 "metadata": {
  "kernelspec": {
   "display_name": "Python 3 (ipykernel)",
   "language": "python",
   "name": "python3"
  },
  "language_info": {
   "codemirror_mode": {
    "name": "ipython",
    "version": 3
   },
   "file_extension": ".py",
   "mimetype": "text/x-python",
   "name": "python",
   "nbconvert_exporter": "python",
   "pygments_lexer": "ipython3",
   "version": "3.11.5"
  }
 },
 "nbformat": 4,
 "nbformat_minor": 5
}
