{
 "cells": [
  {
   "cell_type": "code",
   "execution_count": 17,
   "id": "052f6e4b",
   "metadata": {},
   "outputs": [],
   "source": [
    "# 선생님이 오전에 작성한 파일에 내가 덧붙임. \n",
    "# 선생님의 파일은 for문으로 작성하면서 기존꺼를 삭제, 그 부분은 내꺼 참조.\n",
    "# 0. bs4 모듈의 BeautifulSoup 클래스 사용\n",
    "import pandas as pd\n",
    "import requests\n",
    "import os\n",
    "from bs4 import BeautifulSoup\n",
    "from time import sleep"
   ]
  },
  {
   "cell_type": "code",
   "execution_count": 14,
   "id": "3d1d0ffb",
   "metadata": {},
   "outputs": [],
   "source": [
    "# 자주 사용하는 함수 정의\n",
    "def bugs_row(tr):\n",
    "    rank = tr.find('strong').text\n",
    "    try:\n",
    "        title = tr.find('p', {'class':'title'}).find('a').text\n",
    "    except:\n",
    "        title = tr.find('p', {'class':'title'}).find('span', '').text\n",
    "    artist = tr.find('p', {'class':'artist'}).find('a').text\n",
    "    try:\n",
    "        album = tr.find('a', {'class':'album'}).text\n",
    "    except:\n",
    "        album = tr.find('span', {'class':'album'}).text\n",
    "    img_url = tr.find('img').get('src').split('?')[0]\n",
    "    row  = [rank, title, artist, album,img_url]\n",
    "    return {'info':row, 'url':img_url}"
   ]
  },
  {
   "cell_type": "code",
   "execution_count": 15,
   "id": "e4cc2dec",
   "metadata": {},
   "outputs": [
    {
     "name": "stdout",
     "output_type": "stream",
     "text": [
      "Response 본문의 데이터종류: text/html;charset=UTF-8\n",
      "<!DOCTYPE html>\r\n",
      "<html lang=\"ko\">\r\n",
      "<head>\r\n",
      "\t<!-- bgsw-www-t1911 -->\r\n",
      "\n",
      "\n",
      "\n",
      "\t<meta charset=\"utf-8\">\r\n",
      "\t<meta http-equiv=\"X-UA-Compatible\" content=\"IE=edge\">\r\n",
      "\t<meta name=\"keywords\" content=\"노래추천, 음악추천, 플레이리스트, essential, 에센셜, 스트리밍, 스밍, 뮤직PD, 노래듣기, 음악다운로드, 페이코\" />\r\n"
     ]
    }
   ],
   "source": [
    "# 1. 웹(html)문서 불러오기\n",
    "#    1-2. 웹서버 접속해서 실시간으로 웹(html)문서 다운받기\n",
    "url = 'https://music.bugs.co.kr/chart'\n",
    "\n",
    "# response = headers + content(data,text)\n",
    "# response.headers  : HTTP 헤더를 사전(Dict)으로 조회\n",
    "# response.content  : HTTP 본문을 Data(Binary)형으로 조회, image, zip, hwp, ...\n",
    "# response.text     : HTTP 본문을 Text(문자)형으로 조회, text/html\n",
    "response = requests.get(url)\n",
    "print('Response 본문의 데이터종류:', response.headers['Content-Type'])\n",
    "print(response.text[:259])"
   ]
  },
  {
   "cell_type": "code",
   "execution_count": 16,
   "id": "7f9672ff",
   "metadata": {
    "scrolled": false
   },
   "outputs": [
    {
     "ename": "ValueError",
     "evalue": "4 columns passed, passed data had 5 columns",
     "output_type": "error",
     "traceback": [
      "\u001b[1;31m---------------------------------------------------------------------------\u001b[0m",
      "\u001b[1;31mAssertionError\u001b[0m                            Traceback (most recent call last)",
      "File \u001b[1;32m~\\anaconda3\\Lib\\site-packages\\pandas\\core\\internals\\construction.py:934\u001b[0m, in \u001b[0;36m_finalize_columns_and_data\u001b[1;34m(content, columns, dtype)\u001b[0m\n\u001b[0;32m    933\u001b[0m \u001b[38;5;28;01mtry\u001b[39;00m:\n\u001b[1;32m--> 934\u001b[0m     columns \u001b[38;5;241m=\u001b[39m _validate_or_indexify_columns(contents, columns)\n\u001b[0;32m    935\u001b[0m \u001b[38;5;28;01mexcept\u001b[39;00m \u001b[38;5;167;01mAssertionError\u001b[39;00m \u001b[38;5;28;01mas\u001b[39;00m err:\n\u001b[0;32m    936\u001b[0m     \u001b[38;5;66;03m# GH#26429 do not raise user-facing AssertionError\u001b[39;00m\n",
      "File \u001b[1;32m~\\anaconda3\\Lib\\site-packages\\pandas\\core\\internals\\construction.py:981\u001b[0m, in \u001b[0;36m_validate_or_indexify_columns\u001b[1;34m(content, columns)\u001b[0m\n\u001b[0;32m    979\u001b[0m \u001b[38;5;28;01mif\u001b[39;00m \u001b[38;5;129;01mnot\u001b[39;00m is_mi_list \u001b[38;5;129;01mand\u001b[39;00m \u001b[38;5;28mlen\u001b[39m(columns) \u001b[38;5;241m!=\u001b[39m \u001b[38;5;28mlen\u001b[39m(content):  \u001b[38;5;66;03m# pragma: no cover\u001b[39;00m\n\u001b[0;32m    980\u001b[0m     \u001b[38;5;66;03m# caller's responsibility to check for this...\u001b[39;00m\n\u001b[1;32m--> 981\u001b[0m     \u001b[38;5;28;01mraise\u001b[39;00m \u001b[38;5;167;01mAssertionError\u001b[39;00m(\n\u001b[0;32m    982\u001b[0m         \u001b[38;5;124mf\u001b[39m\u001b[38;5;124m\"\u001b[39m\u001b[38;5;132;01m{\u001b[39;00m\u001b[38;5;28mlen\u001b[39m(columns)\u001b[38;5;132;01m}\u001b[39;00m\u001b[38;5;124m columns passed, passed data had \u001b[39m\u001b[38;5;124m\"\u001b[39m\n\u001b[0;32m    983\u001b[0m         \u001b[38;5;124mf\u001b[39m\u001b[38;5;124m\"\u001b[39m\u001b[38;5;132;01m{\u001b[39;00m\u001b[38;5;28mlen\u001b[39m(content)\u001b[38;5;132;01m}\u001b[39;00m\u001b[38;5;124m columns\u001b[39m\u001b[38;5;124m\"\u001b[39m\n\u001b[0;32m    984\u001b[0m     )\n\u001b[0;32m    985\u001b[0m \u001b[38;5;28;01mif\u001b[39;00m is_mi_list:\n\u001b[0;32m    986\u001b[0m     \u001b[38;5;66;03m# check if nested list column, length of each sub-list should be equal\u001b[39;00m\n",
      "\u001b[1;31mAssertionError\u001b[0m: 4 columns passed, passed data had 5 columns",
      "\nThe above exception was the direct cause of the following exception:\n",
      "\u001b[1;31mValueError\u001b[0m                                Traceback (most recent call last)",
      "Cell \u001b[1;32mIn[16], line 11\u001b[0m\n\u001b[0;32m      9\u001b[0m     row \u001b[38;5;241m=\u001b[39m bugs_row(tr)[\u001b[38;5;124m'\u001b[39m\u001b[38;5;124minfo\u001b[39m\u001b[38;5;124m'\u001b[39m]\n\u001b[0;32m     10\u001b[0m     rows\u001b[38;5;241m.\u001b[39mappend(row)\n\u001b[1;32m---> 11\u001b[0m chart \u001b[38;5;241m=\u001b[39m pd\u001b[38;5;241m.\u001b[39mDataFrame(rows, columns \u001b[38;5;241m=\u001b[39m [\u001b[38;5;124m'\u001b[39m\u001b[38;5;124mrank\u001b[39m\u001b[38;5;124m'\u001b[39m, \u001b[38;5;124m'\u001b[39m\u001b[38;5;124mtitle\u001b[39m\u001b[38;5;124m'\u001b[39m, \u001b[38;5;124m'\u001b[39m\u001b[38;5;124martist\u001b[39m\u001b[38;5;124m'\u001b[39m, \u001b[38;5;124m'\u001b[39m\u001b[38;5;124malbum\u001b[39m\u001b[38;5;124m'\u001b[39m])\n\u001b[0;32m     12\u001b[0m chart\u001b[38;5;241m.\u001b[39mset_index(\u001b[38;5;124m'\u001b[39m\u001b[38;5;124mrank\u001b[39m\u001b[38;5;124m'\u001b[39m, inplace \u001b[38;5;241m=\u001b[39m \u001b[38;5;28;01mTrue\u001b[39;00m)\n\u001b[0;32m     13\u001b[0m chart\n",
      "File \u001b[1;32m~\\anaconda3\\Lib\\site-packages\\pandas\\core\\frame.py:782\u001b[0m, in \u001b[0;36mDataFrame.__init__\u001b[1;34m(self, data, index, columns, dtype, copy)\u001b[0m\n\u001b[0;32m    780\u001b[0m     \u001b[38;5;28;01mif\u001b[39;00m columns \u001b[38;5;129;01mis\u001b[39;00m \u001b[38;5;129;01mnot\u001b[39;00m \u001b[38;5;28;01mNone\u001b[39;00m:\n\u001b[0;32m    781\u001b[0m         columns \u001b[38;5;241m=\u001b[39m ensure_index(columns)\n\u001b[1;32m--> 782\u001b[0m     arrays, columns, index \u001b[38;5;241m=\u001b[39m nested_data_to_arrays(\n\u001b[0;32m    783\u001b[0m         \u001b[38;5;66;03m# error: Argument 3 to \"nested_data_to_arrays\" has incompatible\u001b[39;00m\n\u001b[0;32m    784\u001b[0m         \u001b[38;5;66;03m# type \"Optional[Collection[Any]]\"; expected \"Optional[Index]\"\u001b[39;00m\n\u001b[0;32m    785\u001b[0m         data,\n\u001b[0;32m    786\u001b[0m         columns,\n\u001b[0;32m    787\u001b[0m         index,  \u001b[38;5;66;03m# type: ignore[arg-type]\u001b[39;00m\n\u001b[0;32m    788\u001b[0m         dtype,\n\u001b[0;32m    789\u001b[0m     )\n\u001b[0;32m    790\u001b[0m     mgr \u001b[38;5;241m=\u001b[39m arrays_to_mgr(\n\u001b[0;32m    791\u001b[0m         arrays,\n\u001b[0;32m    792\u001b[0m         columns,\n\u001b[1;32m   (...)\u001b[0m\n\u001b[0;32m    795\u001b[0m         typ\u001b[38;5;241m=\u001b[39mmanager,\n\u001b[0;32m    796\u001b[0m     )\n\u001b[0;32m    797\u001b[0m \u001b[38;5;28;01melse\u001b[39;00m:\n",
      "File \u001b[1;32m~\\anaconda3\\Lib\\site-packages\\pandas\\core\\internals\\construction.py:498\u001b[0m, in \u001b[0;36mnested_data_to_arrays\u001b[1;34m(data, columns, index, dtype)\u001b[0m\n\u001b[0;32m    495\u001b[0m \u001b[38;5;28;01mif\u001b[39;00m is_named_tuple(data[\u001b[38;5;241m0\u001b[39m]) \u001b[38;5;129;01mand\u001b[39;00m columns \u001b[38;5;129;01mis\u001b[39;00m \u001b[38;5;28;01mNone\u001b[39;00m:\n\u001b[0;32m    496\u001b[0m     columns \u001b[38;5;241m=\u001b[39m ensure_index(data[\u001b[38;5;241m0\u001b[39m]\u001b[38;5;241m.\u001b[39m_fields)\n\u001b[1;32m--> 498\u001b[0m arrays, columns \u001b[38;5;241m=\u001b[39m to_arrays(data, columns, dtype\u001b[38;5;241m=\u001b[39mdtype)\n\u001b[0;32m    499\u001b[0m columns \u001b[38;5;241m=\u001b[39m ensure_index(columns)\n\u001b[0;32m    501\u001b[0m \u001b[38;5;28;01mif\u001b[39;00m index \u001b[38;5;129;01mis\u001b[39;00m \u001b[38;5;28;01mNone\u001b[39;00m:\n",
      "File \u001b[1;32m~\\anaconda3\\Lib\\site-packages\\pandas\\core\\internals\\construction.py:840\u001b[0m, in \u001b[0;36mto_arrays\u001b[1;34m(data, columns, dtype)\u001b[0m\n\u001b[0;32m    837\u001b[0m     data \u001b[38;5;241m=\u001b[39m [\u001b[38;5;28mtuple\u001b[39m(x) \u001b[38;5;28;01mfor\u001b[39;00m x \u001b[38;5;129;01min\u001b[39;00m data]\n\u001b[0;32m    838\u001b[0m     arr \u001b[38;5;241m=\u001b[39m _list_to_arrays(data)\n\u001b[1;32m--> 840\u001b[0m content, columns \u001b[38;5;241m=\u001b[39m _finalize_columns_and_data(arr, columns, dtype)\n\u001b[0;32m    841\u001b[0m \u001b[38;5;28;01mreturn\u001b[39;00m content, columns\n",
      "File \u001b[1;32m~\\anaconda3\\Lib\\site-packages\\pandas\\core\\internals\\construction.py:937\u001b[0m, in \u001b[0;36m_finalize_columns_and_data\u001b[1;34m(content, columns, dtype)\u001b[0m\n\u001b[0;32m    934\u001b[0m     columns \u001b[38;5;241m=\u001b[39m _validate_or_indexify_columns(contents, columns)\n\u001b[0;32m    935\u001b[0m \u001b[38;5;28;01mexcept\u001b[39;00m \u001b[38;5;167;01mAssertionError\u001b[39;00m \u001b[38;5;28;01mas\u001b[39;00m err:\n\u001b[0;32m    936\u001b[0m     \u001b[38;5;66;03m# GH#26429 do not raise user-facing AssertionError\u001b[39;00m\n\u001b[1;32m--> 937\u001b[0m     \u001b[38;5;28;01mraise\u001b[39;00m \u001b[38;5;167;01mValueError\u001b[39;00m(err) \u001b[38;5;28;01mfrom\u001b[39;00m \u001b[38;5;21;01merr\u001b[39;00m\n\u001b[0;32m    939\u001b[0m \u001b[38;5;28;01mif\u001b[39;00m \u001b[38;5;28mlen\u001b[39m(contents) \u001b[38;5;129;01mand\u001b[39;00m contents[\u001b[38;5;241m0\u001b[39m]\u001b[38;5;241m.\u001b[39mdtype \u001b[38;5;241m==\u001b[39m np\u001b[38;5;241m.\u001b[39mobject_:\n\u001b[0;32m    940\u001b[0m     contents \u001b[38;5;241m=\u001b[39m convert_object_array(contents, dtype\u001b[38;5;241m=\u001b[39mdtype)\n",
      "\u001b[1;31mValueError\u001b[0m: 4 columns passed, passed data had 5 columns"
     ]
    }
   ],
   "source": [
    "# 2. 웹문서내용(str,문자열)을 분석 가능한 객체(bs4.BeautifulSoup) 생성\n",
    "# 3. find, find_all 메소드등을 이용하여 특정한 <tag> 블럭 조회\n",
    "text = response.text\n",
    "html = BeautifulSoup(text, 'html.parser')\n",
    "tr_list = html.find('table', {'class':'list'}).find('tbody').find_all('tr')\n",
    "\n",
    "rows = []\n",
    "for tr in tr_list:\n",
    "    row = bugs_row(tr)['info']\n",
    "    rows.append(row)\n",
    "chart = pd.DataFrame(rows, columns = ['rank', 'title', 'artist', 'album'])\n",
    "chart.set_index('rank', inplace = True)\n",
    "chart"
   ]
  },
  {
   "cell_type": "code",
   "execution_count": 5,
   "id": "0e36161f",
   "metadata": {},
   "outputs": [],
   "source": [
    "year = 2018\n",
    "month = 1\n",
    "for day in range(11, 21):\n",
    "    date = f'{year:4}{month:0>2}{day:0>2}'\n",
    "    url = f'https://music.bugs.co.kr/chart/track/day/total?chartdate={date}'\n",
    "\n",
    "    response = requests.get(url)\n",
    "    text = response.text\n",
    "    html = BeautifulSoup(text, 'html.parser')\n",
    "    tr_list = html.find('table', {'class':'list'}).find('tbody').find_all('tr')\n",
    "\n",
    "    rows = []\n",
    "    for tr in tr_list:\n",
    "        result = bugs_row(tr)\n",
    "        row = result['info']\n",
    "        img_url = result['url']\n",
    "        \n",
    "        response2 = requests.get(img_url)\n",
    "        content = response2.content\n",
    "        file = open('파일,'wb')\n",
    "        file.write(content)\n",
    "        file.close()\n",
    "        \n",
    "        rows.append(row)\n",
    "    chart = pd.DataFrame(rows, columns = ['rank', 'title', 'artist', 'album'])\n",
    "    chart.set_index('rank', inplace = True)\n",
    "    filename = f'csv/bugs_chart_{date}.csv'\n",
    "    chart.to_csv(filename, encoding = 'utf-8-sig')\n",
    "    #sleep(5)"
   ]
  },
  {
   "cell_type": "code",
   "execution_count": 6,
   "id": "ab09e0fa",
   "metadata": {},
   "outputs": [],
   "source": [
    "date = '20180111'\n",
    "url = f'https://music.bugs.co.kr/chart/track/day/total?chartdate={date}'\n",
    "\n",
    "response = requests.get(url)\n",
    "text = response.text\n",
    "html = BeautifulSoup(text, 'html.parser')\n",
    "tr_list = html.find('table', {'class':'list'}).find('tbody').find_all('tr')"
   ]
  },
  {
   "cell_type": "code",
   "execution_count": 7,
   "id": "2aae458a",
   "metadata": {},
   "outputs": [
    {
     "data": {
      "text/plain": [
       "{'Date': 'Sat, 09 Mar 2024 04:40:25 GMT', 'Content-Length': '2413', 'Accept-Ranges': 'bytes', 'ETag': '\"0:96d\"', 'Content-Type': 'image/jpeg', 'Cache-Control': 'public, max-age=31536000', 'Expires': 'Fri, 26 Jul 2024 14:09:38 GMT', 'Connection': 'Keep-Alive', 'Keep-Alive': 'timeout=10'}"
      ]
     },
     "execution_count": 7,
     "metadata": {},
     "output_type": "execute_result"
    }
   ],
   "source": [
    "rank37 = tr_list[36]\n",
    "url = rank37.find('img').get('src').split('?')[0]\n",
    "response = requests.get(url)\n",
    "response.headers\n",
    "content = response.content\n",
    "\n",
    "file = open('csv/그림.jpeg')"
   ]
  },
  {
   "cell_type": "code",
   "execution_count": null,
   "id": "0659e658",
   "metadata": {},
   "outputs": [],
   "source": []
  }
 ],
 "metadata": {
  "kernelspec": {
   "display_name": "Python 3 (ipykernel)",
   "language": "python",
   "name": "python3"
  },
  "language_info": {
   "codemirror_mode": {
    "name": "ipython",
    "version": 3
   },
   "file_extension": ".py",
   "mimetype": "text/x-python",
   "name": "python",
   "nbconvert_exporter": "python",
   "pygments_lexer": "ipython3",
   "version": "3.11.5"
  }
 },
 "nbformat": 4,
 "nbformat_minor": 5
}
