{
 "cells": [
  {
   "cell_type": "code",
   "execution_count": 12,
   "id": "740981c4",
   "metadata": {},
   "outputs": [],
   "source": [
    "s1 = ['hong','홍길동','A','구로',80,90,84]\n",
    "s2 = ['hwang','B','역삼','황진이','92,95,90']\n",
    "\n",
    "s3 = {'id':'hong','name':'홍길동','class':'A','address':'구로'}\n",
    "s4 = {'id':'hwang','class':'B','address':'역삼','name':'황진이'}"
   ]
  },
  {
   "cell_type": "code",
   "execution_count": 14,
   "id": "5a5bca5d",
   "metadata": {},
   "outputs": [
    {
     "name": "stdout",
     "output_type": "stream",
     "text": [
      "홍길동\n",
      "B\n"
     ]
    }
   ],
   "source": [
    "#s1,s2의 학생정보 조회\n",
    "#목록은 나열된 순서에 매우 큰 영향을 받는 자료형:순차적 접근자료\n",
    "print(s1[1])\n",
    "print(s2[1])"
   ]
  },
  {
   "cell_type": "code",
   "execution_count": 18,
   "id": "ccc9dc59",
   "metadata": {},
   "outputs": [
    {
     "name": "stdout",
     "output_type": "stream",
     "text": [
      "홍길동\n",
      "황진이\n"
     ]
    }
   ],
   "source": [
    "#s1,s2의 학생정보 조회\n",
    "#사전은 나열된 순서에 상관없이 임의의 접근이 가능한 자료형:비순차적 접근자료\n",
    "print(s3['name'])\n",
    "print(s4['name'])"
   ]
  },
  {
   "cell_type": "code",
   "execution_count": 24,
   "id": "9e788fd6",
   "metadata": {},
   "outputs": [
    {
     "name": "stdout",
     "output_type": "stream",
     "text": [
      "0    hong\n",
      "1     홍길동\n",
      "2       A\n",
      "3      구로\n",
      "4      80\n",
      "5      90\n",
      "6      84\n",
      "dtype: object\n",
      "\n",
      "이름: 홍길동\n"
     ]
    }
   ],
   "source": [
    "#판다스 모듈 불러오기\n",
    "import pandas as pd\n",
    "sr1 = pd.Series(s1)\n",
    "print(sr1)\n",
    "print()\n",
    "print('이름:',sr1[1])"
   ]
  },
  {
   "cell_type": "code",
   "execution_count": 29,
   "id": "659407ea",
   "metadata": {},
   "outputs": [
    {
     "name": "stdout",
     "output_type": "stream",
     "text": [
      "id         hong\n",
      "name        홍길동\n",
      "class         A\n",
      "address      구로\n",
      "dtype: object\n",
      "\n",
      "이름: 홍길동\n",
      "주소: 구로\n"
     ]
    }
   ],
   "source": [
    "sr2 = pd.Series(s3)\n",
    "print(sr2)\n",
    "print()\n",
    "print('이름:',sr2['name'])\n",
    "print('주소:',sr2['address'])"
   ]
  },
  {
   "cell_type": "code",
   "execution_count": 30,
   "id": "35aa1776",
   "metadata": {},
   "outputs": [
    {
     "name": "stdout",
     "output_type": "stream",
     "text": [
      "a    1\n",
      "b    2\n",
      "c    3\n",
      "dtype: int64\n"
     ]
    }
   ],
   "source": [
    "dict_data = {'a':1,'b':2,'c':3}\n",
    "sr3=pd.Series(dict_data)\n",
    "print(sr3)"
   ]
  },
  {
   "cell_type": "code",
   "execution_count": 31,
   "id": "fc530388",
   "metadata": {},
   "outputs": [
    {
     "data": {
      "text/plain": [
       "pandas.core.series.Series"
      ]
     },
     "execution_count": 31,
     "metadata": {},
     "output_type": "execute_result"
    }
   ],
   "source": [
    "type(sr3)"
   ]
  },
  {
   "cell_type": "code",
   "execution_count": 38,
   "id": "b71ed5ac",
   "metadata": {},
   "outputs": [
    {
     "data": {
      "text/plain": [
       "('hong', '구로')"
      ]
     },
     "execution_count": 38,
     "metadata": {},
     "output_type": "execute_result"
    }
   ],
   "source": [
    "sr2[0],sr2[-1]"
   ]
  },
  {
   "cell_type": "code",
   "execution_count": 39,
   "id": "aeba881f",
   "metadata": {},
   "outputs": [
    {
     "data": {
      "text/plain": [
       "(Index(['id', 'name', 'class', 'address'], dtype='object'),\n",
       " array(['hong', '홍길동', 'A', '구로'], dtype=object))"
      ]
     },
     "execution_count": 39,
     "metadata": {},
     "output_type": "execute_result"
    }
   ],
   "source": [
    "sr2.index, sr2.values"
   ]
  },
  {
   "cell_type": "code",
   "execution_count": 3,
   "id": "2e77188b",
   "metadata": {},
   "outputs": [],
   "source": [
    "import pandas as pd"
   ]
  },
  {
   "cell_type": "code",
   "execution_count": 4,
   "id": "7766b8d1",
   "metadata": {},
   "outputs": [
    {
     "data": {
      "text/plain": [
       "0    2019-01-02\n",
       "1          3.14\n",
       "2           ABC\n",
       "3           100\n",
       "4          True\n",
       "dtype: object"
      ]
     },
     "execution_count": 4,
     "metadata": {},
     "output_type": "execute_result"
    }
   ],
   "source": [
    "list_data = ['2019-01-02',3.14,'ABC',100,True]\n",
    "sr6 = pd.Series(list_data)\n",
    "sr6"
   ]
  },
  {
   "cell_type": "code",
   "execution_count": 5,
   "id": "a39c6d63",
   "metadata": {},
   "outputs": [
    {
     "data": {
      "text/plain": [
       "('2019-01-02', 100)"
      ]
     },
     "execution_count": 5,
     "metadata": {},
     "output_type": "execute_result"
    }
   ],
   "source": [
    "sr6[0],sr6[3]"
   ]
  },
  {
   "cell_type": "code",
   "execution_count": 6,
   "id": "7e3dc79d",
   "metadata": {},
   "outputs": [],
   "source": [
    "sr5 = pd.Series(list_data,index=['data','pi','alpha','int','bool'])"
   ]
  },
  {
   "cell_type": "code",
   "execution_count": 7,
   "id": "79fe724b",
   "metadata": {},
   "outputs": [
    {
     "data": {
      "text/plain": [
       "data     2019-01-02\n",
       "pi             3.14\n",
       "alpha           ABC\n",
       "int             100\n",
       "bool           True\n",
       "dtype: object"
      ]
     },
     "execution_count": 7,
     "metadata": {},
     "output_type": "execute_result"
    }
   ],
   "source": [
    "sr5"
   ]
  },
  {
   "cell_type": "code",
   "execution_count": 9,
   "id": "2a0925ff",
   "metadata": {},
   "outputs": [
    {
     "data": {
      "text/plain": [
       "('ABC', 'ABC')"
      ]
     },
     "execution_count": 9,
     "metadata": {},
     "output_type": "execute_result"
    }
   ],
   "source": [
    "sr5['alpha'],sr5[2]"
   ]
  },
  {
   "cell_type": "code",
   "execution_count": 10,
   "id": "1e23dee8",
   "metadata": {},
   "outputs": [],
   "source": [
    "sr7 = pd.Series({'a':10,'b':20,'c':30,'d':40,'e':50})"
   ]
  },
  {
   "cell_type": "code",
   "execution_count": 11,
   "id": "98d3e158",
   "metadata": {},
   "outputs": [
    {
     "data": {
      "text/plain": [
       "a    10\n",
       "b    20\n",
       "c    30\n",
       "d    40\n",
       "e    50\n",
       "dtype: int64"
      ]
     },
     "execution_count": 11,
     "metadata": {},
     "output_type": "execute_result"
    }
   ],
   "source": [
    "sr7"
   ]
  },
  {
   "cell_type": "code",
   "execution_count": 12,
   "id": "f185b0b2",
   "metadata": {},
   "outputs": [
    {
     "data": {
      "text/plain": [
       "b    20\n",
       "c    30\n",
       "d    40\n",
       "e    50\n",
       "dtype: int64"
      ]
     },
     "execution_count": 12,
     "metadata": {},
     "output_type": "execute_result"
    }
   ],
   "source": [
    "sr7['b':'e']"
   ]
  },
  {
   "cell_type": "code",
   "execution_count": 13,
   "id": "8b1f189b",
   "metadata": {},
   "outputs": [
    {
     "data": {
      "text/plain": [
       "b    20\n",
       "c    30\n",
       "d    40\n",
       "dtype: int64"
      ]
     },
     "execution_count": 13,
     "metadata": {},
     "output_type": "execute_result"
    }
   ],
   "source": [
    "sr7[1:4]"
   ]
  },
  {
   "cell_type": "code",
   "execution_count": 14,
   "id": "b960f336",
   "metadata": {},
   "outputs": [
    {
     "data": {
      "text/plain": [
       "a    10\n",
       "e    50\n",
       "c    30\n",
       "dtype: int64"
      ]
     },
     "execution_count": 14,
     "metadata": {},
     "output_type": "execute_result"
    }
   ],
   "source": [
    "sr7[['a','e','c']]"
   ]
  },
  {
   "cell_type": "code",
   "execution_count": null,
   "id": "95902b98",
   "metadata": {},
   "outputs": [],
   "source": []
  }
 ],
 "metadata": {
  "kernelspec": {
   "display_name": "Python 3 (ipykernel)",
   "language": "python",
   "name": "python3"
  },
  "language_info": {
   "codemirror_mode": {
    "name": "ipython",
    "version": 3
   },
   "file_extension": ".py",
   "mimetype": "text/x-python",
   "name": "python",
   "nbconvert_exporter": "python",
   "pygments_lexer": "ipython3",
   "version": "3.11.5"
  }
 },
 "nbformat": 4,
 "nbformat_minor": 5
}
