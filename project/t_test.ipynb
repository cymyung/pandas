{
 "cells": [
  {
   "cell_type": "code",
   "execution_count": null,
   "id": "433cb463",
   "metadata": {},
   "outputs": [],
   "source": [
    "import pandas\n",
    "import seaborn\n",
    "import numpy\n",
    "from matplotlib import pyplot\n",
    "import warnings\n",
    "\n",
    "warnings.filterwarnings('ignore')"
   ]
  },
  {
   "cell_type": "markdown",
   "id": "b46fafab",
   "metadata": {},
   "source": [
    "## t-test\n",
    "모집단의 분산과 표준편차를 알지 못할 때 사용되는 통계적 검정 방법으로, 표본에서 추정된 분산이나 표준편차를 활용하여 검정한다.\n",
    "\n",
    "\n",
    "## t-test를 위한 가정\n",
    "1. 종속변수는 연속형(양적, Continuous) 변수여야 한다.\n",
    "2. 독립변수는 이산형/범주형 변수여야 한다.\n",
    "3. 모집단의 분산과 표준편차를 알 수 없다.\n",
    "4. 모집단의 분포는 정규분포를 따른다.\n",
    "5. 등분산성의 가정이 충족되어야 한다.\n",
    "\n",
    "## 귀무가설(H₀), 대립가설(H1)\n",
    "1. 귀무가설(H0) : 영가설, A와 B는 차이가 없다.  결과는 우연히 일어난 것이다.\n",
    "2. 대립가설(H1) : A와 B는 차이가 있다."
   ]
  },
  {
   "cell_type": "code",
   "execution_count": null,
   "id": "83a76e79",
   "metadata": {},
   "outputs": [],
   "source": [
    "table = pandas.DataFrame([['N', 'n'],\n",
    "                          ['µ', 'x'],\n",
    "                          ['σ2', 's2'],\n",
    "                          ['σ', 's']],\n",
    "                         columns = ['모집단(population)', '표본(sample)'],\n",
    "                         index = ['관측치', '평균값', '분산', '편차'])\n",
    "table"
   ]
  },
  {
   "cell_type": "code",
   "execution_count": null,
   "id": "25989e47",
   "metadata": {},
   "outputs": [],
   "source": [
    "car = pandas.read_csv('auto-mpg.csv')\n",
    "car.head()"
   ]
  },
  {
   "cell_type": "code",
   "execution_count": null,
   "id": "e4d0b3cd",
   "metadata": {},
   "outputs": [],
   "source": [
    "car.info()"
   ]
  },
  {
   "cell_type": "code",
   "execution_count": null,
   "id": "ac9a6bd5-2faa-4c02-a8e6-48ac71043a4a",
   "metadata": {},
   "outputs": [],
   "source": []
  },
  {
   "cell_type": "code",
   "execution_count": null,
   "id": "2f7dbc55",
   "metadata": {},
   "outputs": [],
   "source": [
    "origin_usa = car[car['origin'] == 1]['mpg']\n",
    "origin_eu  = car[car['origin'] == 2]['mpg']\n",
    "origin_jpn = car[car['origin'] == 3]['mpg']\n",
    "origin_list = [origin_usa, origin_eu, origin_jpn]\n",
    "\n",
    "pyplot.style.use('seaborn-whitegrid')\n",
    "pyplot.figure(figsize = (10, 4))\n",
    "pyplot.boxplot(origin_list, labels = ['usa', 'eu', 'jpn'])\n",
    "pyplot.show()"
   ]
  },
  {
   "cell_type": "code",
   "execution_count": null,
   "id": "cce4bf4e",
   "metadata": {},
   "outputs": [],
   "source": [
    "seaborn.set_style('whitegrid')\n",
    "figure = pyplot.figure(figsize = (10, 4))\n",
    "ax1 = figure.add_subplot(1, 2, 1)\n",
    "ax2 = figure.add_subplot(1, 2, 2)\n",
    "seaborn.stripplot(data = car, hue = 'origin', x = 'origin', y = 'mpg', ax = ax1)\n",
    "seaborn.swarmplot(data = car, hue = 'origin', x = 'origin', y = 'mpg', ax = ax2)\n",
    "pyplot.show()"
   ]
  },
  {
   "cell_type": "markdown",
   "id": "3b6c9895",
   "metadata": {},
   "source": [
    "##  단일표본(one-sample) t-test\n",
    "1. 단일 모집단에 대한 가설 검정\n",
    "2. 단일 모집단에서 관심이 있는 연속형 변수(Columns)의 평균값을 특정 기준값과 비교할 때 사용\n",
    "3. 모집단이 정규분포를 따른다는 가정하에 검정통계량(statistic)을 계산\n",
    "4. 문제에 따라  양측검정(two-sided), 단측검정: 우측검정(greater), 좌측검정(less)\n",
    "  - 양측검정(two-sided)\n",
    "    - H0: 평균 ＝ 기준값\n",
    "    - H1: 평균 ≠ 기준값\n",
    "  - 우측검정(greater)\n",
    "    - H0: 평균 ＝ 기준값\n",
    "    - H1: 평균 > 기준값\n",
    "  - 좌측검정(less)\n",
    "    - H0: 평균 ＝ 기준값\n",
    "    - H1: 평균 < 기준값"
   ]
  },
  {
   "cell_type": "code",
   "execution_count": null,
   "id": "5710ff81",
   "metadata": {},
   "outputs": [],
   "source": [
    "from IPython.display import Image\n",
    "Image(filename = 'one_sample_t_test_fomula.png')"
   ]
  },
  {
   "cell_type": "code",
   "execution_count": null,
   "id": "dce4d2c6",
   "metadata": {},
   "outputs": [],
   "source": [
    "mean_whole = car['mpg'].mean()\n",
    "mean_usa = car[car['origin'] == 1]['mpg'].mean()\n",
    "print('전체평균:', mean_whole)\n",
    "print('미국평균:', mean_usa)"
   ]
  },
  {
   "cell_type": "code",
   "execution_count": null,
   "id": "a3d66b73",
   "metadata": {},
   "outputs": [],
   "source": [
    "mask_usa = car['origin'] == 1\n",
    "var_usa = car[mask_usa]['mpg'].var()\n",
    "std_usa = car[mask_usa]['mpg'].std()\n",
    "count_usa = len(car[mask_usa])\n",
    "print('표준분산:', var_usa)\n",
    "print('표준편차:', std_usa)\n",
    "print('표본수량:', count_usa)"
   ]
  },
  {
   "cell_type": "code",
   "execution_count": null,
   "id": "a33101ee",
   "metadata": {},
   "outputs": [],
   "source": [
    "# 표본분산, 표본편차 구하는 방법\n",
    "mask_usa = car['origin'] == 1\n",
    "sr_usa = car[mask_usa]['mpg']\n",
    "\n",
    "# df(degrees of freedom)\n",
    "df_usa = count_usa - 1\n",
    "var_usa = ((sr_usa - mean_usa) ** 2).sum() / df_usa\n",
    "std_usa = var_usa ** 0.5\n",
    "print('표준분산:', var_usa)\n",
    "print('표준편차:', std_usa)\n",
    "print('표본수량:', count_usa)"
   ]
  },
  {
   "cell_type": "code",
   "execution_count": null,
   "id": "f43b2f4b",
   "metadata": {},
   "outputs": [],
   "source": [
    "# 통계량\n",
    "statistic = (mean_usa - mean_whole) / (std_usa / (count_usa ** 0.5))\n",
    "print('통계량:', statistic)\n",
    "print('자유도:', df_usa)"
   ]
  },
  {
   "cell_type": "code",
   "execution_count": null,
   "id": "365b9a18",
   "metadata": {},
   "outputs": [],
   "source": [
    "from scipy import stats\n",
    "\n",
    "# 단일표본(one-sample) t-test : scipy.stats.ttest_1samp\n",
    "# scipy.stats.ttest_1samp(Series[배열], 비교값,\n",
    "#                         alternative = 'two-sided'/'greater'/'less',\n",
    "#                         nan_policy = 'propagate'/'raise'/'omit',\n",
    "#                         random_state = None)\n",
    "mean_whole = car['mpg'].mean()\n",
    "print('전체평균:', mean_whole, end = '\\n\\n')\n",
    "mpg_usa = car[car['origin'] == 1]['mpg']\n",
    "result = stats.ttest_1samp(mpg_usa, mean_whole, alternative = 'two-sided')\n",
    "print(result)\n",
    "print('statistic(통계량):', result.statistic)\n",
    "print('p-value(p-값):', result.pvalue)\n",
    "print('df(자유도):', result.df, end = '\\n\\n')\n",
    "print('유의확율   5% 미만:', result.pvalue < 0.05)\n",
    "print('유의확율 0.1% 미만:', result.pvalue < 0.001)\n",
    "print('유의확율 0.000000001% 미만:', result.pvalue < 0.00000000001)"
   ]
  },
  {
   "cell_type": "code",
   "execution_count": null,
   "id": "10e90457",
   "metadata": {},
   "outputs": [],
   "source": [
    "from scipy import stats\n",
    "\n",
    "result = stats.wilcoxon(mpg_usa - mean_whole)\n",
    "print(result)\n",
    "print('statistic(통계량):', result.statistic)\n",
    "print('p-value(p-값):', result.pvalue)\n",
    "print('유의확율   5% 미만:', result.pvalue < 0.05)\n",
    "print('유의확율 0.1% 미만:', result.pvalue < 0.001)"
   ]
  },
  {
   "cell_type": "markdown",
   "id": "d67edad4",
   "metadata": {},
   "source": [
    "##  독립표본(independent-sample, two-sample) t-test\n",
    "1. 두개의 모집단에 대한 가설 검정\n",
    "2. 두개의 모집단의 평균을 비교하고자 할 때 사용\n",
    "3. 가정: 정규성, 독립성, 등분산성\n",
    "4. 문제에 따라  양측검정(two-sided), 단측검정: 우측검정(greater), 좌측검정(less)\n",
    "  - 양측검정(two-sided)\n",
    "    - H0: 집단1_평균 ＝ 집단2_평균\n",
    "    - H1: 집단1_평균 ≠ 집단2_평균\n",
    "  - 우측검정(greater)\n",
    "    - H0: 집단1_평균 ＝ 집단2_평균\n",
    "    - H1: 집단1_평균 > 집단2_평균\n",
    "  - 좌측검정(less)\n",
    "    - H0: 집단1_평균 ＝ 집단2_평균\n",
    "    - H1: 집단1_평균 < 집단2_평균"
   ]
  },
  {
   "cell_type": "raw",
   "id": "e125efb4",
   "metadata": {},
   "source": [
    "그룹간의 평균비교\n",
    "│\n",
    "├─┬ 독립관계\n",
    "│ │\n",
    "│ └─┬ 표본의 크기\n",
    "│   │\n",
    "│   ├─┬ 30개 이상\n",
    "│   │ │\n",
    "│   │ └─┬ 등분산 여부\n",
    "│   │   │\n",
    "│   │   ├──── 독립표본 t-test(등분산)     scipy.stats.ttest_ind(equal_var = True)\n",
    "│   │   │\n",
    "│   │   └──── 독립표본 t-test(이분산)     scipy.stats.ttest_ind(equal_var = False)\n",
    "│   │\n",
    "│   ├─┬ 30 ~ 10개 사이\n",
    "│   │ │\n",
    "│   │ └─┬ 정규성 여부\n",
    "│   │   │\n",
    "│   │   ├─┬ 정규성(만족)\n",
    "│   │   │ │\n",
    "│   │   │ ├── 독립표본 t-test(등분산)     scipy.stats.ttest_ind(equal_var = True)\n",
    "│   │   │ │\n",
    "│   │   │ └── 독립표본 t-test(이분산)     scipy.stats.ttest_ind(equal_var = False)\n",
    "│   │   │\n",
    "│   └───┴─┬ 10개 미만, 정규성(불만족)\n",
    "│         │\n",
    "│         └── 윌콕슨 순위합 검정          scipy.stats.ranksums()\n",
    "│ \n",
    "└─┬ 종속관계\n",
    "  │\n",
    "  └─┬ 표본의 크기\n",
    "    │\n",
    "    ├─┬ 30개 이상\n",
    "    │ │\n",
    "    │ └────── 대응표본 t-test             scipy.stats.ttest_rel()\n",
    "    │\n",
    "    ├─┬ 30 ~ 10개 사이\n",
    "    │ │\n",
    "    │ └─┬ 정규성 여부\n",
    "    │   │\n",
    "    │   ├─┬ 정규성(만족)\n",
    "    │   │ │\n",
    "    │   │ └── 대응표본 t-test             scipy.stats.ttest_rel()\n",
    "    │   │        \n",
    "    └───┴─┬ 10개 미만, 정규성(불만족)\n",
    "          │\n",
    "          └── 윌콕슨 부호순위 검정        scipy.stats.wilcoxon()"
   ]
  },
  {
   "cell_type": "code",
   "execution_count": null,
   "id": "1bdbf6fc",
   "metadata": {},
   "outputs": [],
   "source": [
    "from IPython.display import Image\n",
    "Image(filename = 'independent_sample_t_test_fomula.png')"
   ]
  },
  {
   "cell_type": "code",
   "execution_count": null,
   "id": "5e1eaa5e",
   "metadata": {},
   "outputs": [],
   "source": [
    "import seaborn\n",
    "from scipy import stats\n",
    "\n",
    "# 2개의 샘플의 정규성 여부를 그래프로 확인\n",
    "mpg_usa = car[car['origin'] == 1]['mpg']\n",
    "mpg_jpn = car[car['origin'] == 3]['mpg']\n",
    "\n",
    "figure = pyplot.figure(figsize = (9, 6))\n",
    "ax1 = figure.add_subplot(2, 1, 1)\n",
    "ax2 = figure.add_subplot(2, 1, 2)\n",
    "seaborn.distplot(mpg_usa, kde = True, hist = True, fit = stats.norm, ax = ax1)\n",
    "seaborn.distplot(mpg_jpn, kde = True, hist = True, fit = stats.norm, ax = ax2)\n",
    "pyplot.show()"
   ]
  },
  {
   "cell_type": "code",
   "execution_count": null,
   "id": "21849b9d",
   "metadata": {},
   "outputs": [],
   "source": [
    "from scipy import stats\n",
    "\n",
    "mpg_usa = car[car['origin'] == 1]['mpg']\n",
    "mpg_jpn = car[car['origin'] == 3]['mpg']\n",
    "\n",
    "# 2개의 샘플의 정규성 여부를 확인\n",
    "\n",
    "# scipy.stats.shapiro(배열)        : Shapiro-Wilk Test, 데이터가 정규분포를 따르는지 검정\n",
    "#                                                  데이터수가 5000개미만일 때 사용한다.\n",
    "# scipy.stats.kstest(배열1, 배열2) : Kolmogorove-Smirnov Test, 2개 그룹의 분포가 동일한지 검정\n",
    "# scipy.stats.kstest(배열, 'norm') : Kolmogorove-Smirnov Test, 데이터가 정규분포를 따르는지 검정\n",
    "#numpy.random.seed(0)\n",
    "print(stats.shapiro(mpg_usa))\n",
    "print(stats.kstest(mpg_usa, 'norm'), end = '\\n\\n')\n",
    "print(stats.shapiro(mpg_jpn))\n",
    "print(stats.kstest(mpg_jpn, 'norm'), end = '\\n\\n')\n",
    "print('미국 정규성 유의확률 5%미만:', stats.shapiro(mpg_usa).pvalue < 0.05)\n",
    "print('일본 정규성 유의확률 5%미만:', stats.shapiro(mpg_jpn).pvalue < 0.05)"
   ]
  },
  {
   "cell_type": "markdown",
   "id": "32b6db5d",
   "metadata": {},
   "source": [
    "## 정규성 검정\n",
    "- 정규성 검정은 데이터가 정규분포를 따르는지 검정하는 것을 의미한다.\n",
    "- (중심극한정리) 보통 표본이 30개이상인 경우 정규성을 만족한다고 가정합니다.\n",
    "- 하지만, 표본이 30개 이상이어도 데이터 특성에 의해 정규분를 따르지 않을 수도 있기에 정규성을 진행한다."
   ]
  },
  {
   "cell_type": "code",
   "execution_count": null,
   "id": "e6c22ba4",
   "metadata": {},
   "outputs": [],
   "source": [
    "import seaborn\n",
    "\n",
    "# 2개의 샘플의 정규성 여부를 그래프로 확인\n",
    "figure = pyplot.figure(figsize = (9, 6))\n",
    "ax1 = figure.add_subplot(2, 1, 1)\n",
    "ax2 = figure.add_subplot(2, 1, 2)\n",
    "seaborn.distplot(mpg_usa, kde = True, hist = True, ax = ax1)\n",
    "seaborn.distplot(mpg_jpn, kde = True, hist = True, ax = ax1)\n",
    "seaborn.distplot(mpg_usa - mpg_usa.mean(), kde = True, hist = True, ax = ax2)\n",
    "seaborn.distplot(mpg_jpn - mpg_jpn.mean(), kde = True, hist = True, ax = ax2)\n",
    "ax1.lines[0].set_linestyle(':')\n",
    "ax2.lines[0].set_linestyle(':')\n",
    "pyplot.show()"
   ]
  },
  {
   "cell_type": "code",
   "execution_count": null,
   "id": "950f622c",
   "metadata": {},
   "outputs": [],
   "source": [
    "from scipy import stats\n",
    "\n",
    "# 2개의 샘플의 등분산성 확인\n",
    "# scipy.stats.kstest(배열1, 배열2) : Kolmogorove-Smirnov Test, 2개 그룹의 분포가 동일한지 검정\n",
    "# scipy.stats.kstest(배열, 'norm') : Kolmogorove-Smirnov Test, 데이터가 정규분포를 따르는지 검정\n",
    "result = stats.kstest(mpg_usa, mpg_jpn)\n",
    "print(result)\n",
    "print('statistic(통계량):', result.statistic)\n",
    "print('p-value(p-값):', result.pvalue)\n",
    "print('유의확율   5% 미만:', result.pvalue < 0.05)\n",
    "print('유의확율 0.1% 미만:', result.pvalue < 0.001)"
   ]
  },
  {
   "cell_type": "code",
   "execution_count": 3,
   "id": "2e8debd1-1a79-491f-95c0-79e89f487b44",
   "metadata": {},
   "outputs": [
    {
     "name": "stdout",
     "output_type": "stream",
     "text": [
      "바트렛 검정 - 유의확율     5% 미만: False\n",
      "바트렛 검정 - 유의확율 0.001% 미만: False\n",
      "\n",
      "레빈 검정 - 유의확율     5% 미만: False\n",
      "레빈 검정 - 유의확율 0.001% 미만: False\n"
     ]
    }
   ],
   "source": [
    "from scipy import stats\n",
    "\n",
    "# 2개의 샘플의 등분산성 확인\n",
    "result_bartlett = stats.bartlett(mpg_usa, mpg_jpn)\n",
    "result_levene   = stats.levene(mpg_usa, mpg_jpn)\n",
    "\n",
    "print('바트렛 검정 - 유의확율   5% 미만:', result_bartlett.pvalue < 0.05)\n",
    "print('바트렛 검정 - 유의확율 0.1% 미만:', result_bartlett.pvalue < 0.001, end = '\\n\\n')\n",
    "print('레빈 검정 - 유의확율   5% 미만:', result_levene.pvalue < 0.05)\n",
    "print('레빈 검정 - 유의확율 0.1% 미만:', result_levene.pvalue < 0.001)"
   ]
  },
  {
   "cell_type": "code",
   "execution_count": null,
   "id": "63650a74",
   "metadata": {},
   "outputs": [],
   "source": [
    "from scipy import stats\n",
    "\n",
    "# 독립표본(independent-sample, two-sample) t-test : scipy.stats.ttest_1samp\n",
    "# scipy.stats.ttest_ind(Series[배열1], Series[배열2], equal_var = True/False,\n",
    "#                       alternative = 'two-sided'/'greater'/'less',\n",
    "#                       nan_policy = 'propagate'/'raise'/'omit',\n",
    "#                       random_state = None)\n",
    "result = stats.ttest_ind(mpg_usa, mpg_jpn, equal_var = False, alternative = 'less')\n",
    "print(result)\n",
    "print('statistic(통계량):', result.statistic)\n",
    "print('p-value(p-값):', result.pvalue)\n",
    "print('유의확율   5% 미만:', result.pvalue < 0.05)\n",
    "print('유의확율 0.1% 미만:', result.pvalue < 0.001)"
   ]
  },
  {
   "cell_type": "code",
   "execution_count": null,
   "id": "a58a13fa",
   "metadata": {},
   "outputs": [],
   "source": [
    "import statsmodels.stats.weightstats\n",
    "\n",
    "# statsmodels.stats.weightstats.ttest_ind(Series[배열1], Series[배열2], usevar = 'pooled'/unequal',\n",
    "#                                         alternative = 'two-sided'/'larger'/'smaller',\n",
    "#                                         weights = (None, None))\n",
    "result = statsmodels.stats.weightstats.ttest_ind(mpg_usa, mpg_jpn, usevar = 'unequal',\n",
    "                                                 alternative = 'smaller', weights = (None, None))\n",
    "print(result)\n",
    "print('statistic(통계량):', result[0])\n",
    "print('p-value(p-값):', result[1])\n",
    "print('유의확율   5% 미만:', result[1] < 0.05)\n",
    "print('유의확율 0.1% 미만:', result[1] < 0.001)"
   ]
  },
  {
   "cell_type": "markdown",
   "id": "fe1fe993",
   "metadata": {},
   "source": [
    "##  대응표본(two-sample paired) t-test\n",
    "1. 단일 모집단에 대한 가설 검정\n",
    "2. 단일 모집단에 대해 2번의 처리를 가하고, 2개의 처리에 대한 평균 차이을 비교하고자 할 때 사용\n",
    "3. 모집단의 관측값이 정규분포를 따른다는 가저을 만족해야함 (정규성 가정)\n",
    "4. 문제에 따라  양측검정(two-sided), 단측검정: 우측검정(greater), 좌측검정(less)\n",
    "  - 양측검정(two-sided)\n",
    "    - H0: 집단_처리1 ＝ 집단_처리2\n",
    "    - H1: 집단_처리1 ≠ 집단_처리2\n",
    "  - 우측검정(greater)\n",
    "    - H0: 집단_처리1 ＝ 집단_처리2\n",
    "    - H1: 집단_처리1 > 집단_처리2\n",
    "  - 좌측검정(less)\n",
    "    - H0: 집단_처리1 ＝ 집단_처리2\n",
    "    - H1: 집단_처리1 < 집단_처리2"
   ]
  },
  {
   "cell_type": "code",
   "execution_count": null,
   "id": "8d9aadea",
   "metadata": {},
   "outputs": [],
   "source": [
    "blood = pandas.read_csv('blood_pressure.csv', index_col = 'no')\n",
    "blood"
   ]
  },
  {
   "cell_type": "code",
   "execution_count": null,
   "id": "ead551ab",
   "metadata": {},
   "outputs": [],
   "source": [
    "before = blood['before']\n",
    "after  = blood['after']\n",
    "\n",
    "print(stats.shapiro(before))\n",
    "print(stats.shapiro(after))\n",
    "print('before 정규성 유의확률 5%미만:', stats.shapiro(before).pvalue < 0.05)\n",
    "print('after  정규성 유의확률 5%미만:', stats.shapiro(after).pvalue < 0.05)"
   ]
  },
  {
   "cell_type": "code",
   "execution_count": null,
   "id": "4f38a6ac",
   "metadata": {},
   "outputs": [],
   "source": [
    "# 2개의 샘플의 정규성 여부를 그래프로 확인\n",
    "figure = pyplot.figure(figsize = (9, 6))\n",
    "ax1 = figure.add_subplot(2, 1, 1)\n",
    "ax2 = figure.add_subplot(2, 1, 2)\n",
    "seaborn.distplot(before, kde = True, hist = True, ax = ax1)\n",
    "seaborn.distplot(after , kde = True, hist = True, ax = ax1)\n",
    "seaborn.distplot(before - before.mean(), kde = True, hist = True, ax = ax2)\n",
    "seaborn.distplot(after  - after.mean() , kde = True, hist = True, ax = ax2)\n",
    "ax1.lines[0].set_linestyle(':')\n",
    "ax2.lines[0].set_linestyle(':')\n",
    "pyplot.show()"
   ]
  },
  {
   "cell_type": "code",
   "execution_count": null,
   "id": "3d7a9cc0",
   "metadata": {},
   "outputs": [],
   "source": [
    "from scipy import stats\n",
    "\n",
    "# 2개의 샘플의 등분산성 확인\n",
    "result = stats.kstest(before, after)\n",
    "print(result)\n",
    "print('statistic(통계량):', result.statistic)\n",
    "print('p-value(p-값):', result.pvalue)\n",
    "print('유의확율   5% 미만:', result.pvalue < 0.05)\n",
    "print('유의확율 0.1% 미만:', result.pvalue < 0.001)"
   ]
  },
  {
   "cell_type": "code",
   "execution_count": null,
   "id": "17b7335c",
   "metadata": {},
   "outputs": [],
   "source": [
    "# 2개의 샘플의 등분산성 확인\n",
    "result = stats.f_oneway(before, after)\n",
    "print(result)\n",
    "print('statistic(통계량):', result.statistic)\n",
    "print('p-value(p-값):', result.pvalue)\n",
    "print('유의확율   5% 미만:', result.pvalue < 0.05)\n",
    "print('유의확율 0.1% 미만:', result.pvalue < 0.001)"
   ]
  },
  {
   "cell_type": "code",
   "execution_count": null,
   "id": "b4db4d30",
   "metadata": {},
   "outputs": [],
   "source": [
    "from scipy import stats\n",
    "\n",
    "# scipy.stats.ttest_rel(Series[배열1], Series[배열2],\n",
    "#                       alternative = 'two-sided'/'greater'/'less',\n",
    "#                       nan_policy = 'propagate'/'raise'/'omit')\n",
    "result = stats.ttest_rel(blood['before'], blood['after'], alternative = 'greater')\n",
    "print(result)\n",
    "print('statistic(통계량):', result[0])\n",
    "print('p-value(p-값):', result[1])\n",
    "print('유의확율   5% 미만:', result[1] < 0.05)\n",
    "print('유의확율 0.1% 미만:', result[1] < 0.001)"
   ]
  },
  {
   "cell_type": "code",
   "execution_count": null,
   "id": "88b99917",
   "metadata": {},
   "outputs": [],
   "source": [
    "import statsmodels.stats.weightstats\n",
    "\n",
    "# statsmodels.stats.weightstats.ttost_paired(Series[배열1], Series[배열2], low, upp,\n",
    "#                                            transform = None, weights = None)\n",
    "result = statsmodels.stats.weightstats.ttost_paired(blood['before'], blood['after'],\n",
    "                                                    0, 14, transform = None, weights = None)\n",
    "print(result)\n",
    "print('statistic(통계량):', result[1][0])\n",
    "print('p-value(p-값):', result[0])\n",
    "print('유의확율   5% 미만:', result[0] < 0.05)\n",
    "print('유의확율 0.1% 미만:', result[0] < 0.001)"
   ]
  },
  {
   "cell_type": "markdown",
   "id": "acbd5755",
   "metadata": {},
   "source": [
    "# scipy.stats 모듈"
   ]
  },
  {
   "cell_type": "raw",
   "id": "70f70089",
   "metadata": {},
   "source": [
    "scipy.stats 모듈\n",
    "│\n",
    "├─┬ 01 T-test\n",
    "│ │\n",
    "│ ├── ttest_1samp       (단일표본 t검정)\n",
    "│ ├── ttest_ind         (독립표본 t검정)\n",
    "│ └── ttest_rel         (대응표본 t검정) \n",
    "│ \n",
    "├─┬ 02 비모수 검정\n",
    "│ │\n",
    "│ ├── mannwhitneyu      (맨-휘트니 U 검정 - 중위수, 윌콕슨 순위합 검정과 동일하다 볼 수 있음)\n",
    "│ ├── ranksums          (윌콕슨 순위합 검정 - 중위수)\n",
    "│ └── wilcoxon          (윌콕슨 부호 순위합 검정)\n",
    "│ \n",
    "├─┬ 03 정규정 검정\n",
    "│ │\n",
    "│ ├── anderson          (Anderson-Darling, 데이터수가 상대적으로 많을 때)\n",
    "│ ├── kstest            (Kolmogorov-Smirnov, 데이터수가 상대적으로 많을 때)\n",
    "│ ├── mstats.normaltest\n",
    "│ └── shapiro           (shapiro, 노말분포 가장 엄격하게 검정, 데이터수가 상대적으로 적을때)\n",
    "│   \n",
    "├─┬ 04 등분산 검정\n",
    "│ │\n",
    "│ ├── bartlett\n",
    "│ ├── fligner\n",
    "│ └── levene\n",
    "│\n",
    "├─┬ 05 카이제곱검정\n",
    "│ │\n",
    "│ ├── chi2_contingency  (카이제곱독립검정, 독립성 검정)\n",
    "│ ├── chisquare         (카이제곱검정, 적합도 검정)\n",
    "│ └── fisher_exact      (피셔 정확 검정 - 빈도수가 5개 이하 셀의 수가 전체 셀의 20%이상일 경우 사용)\n",
    "│\n",
    "└─┬ 06 ANOVA (일원분산분석)\n",
    "  │\n",
    "  └── f_oneway          (분산 분석은 statmodels 모듈이 더 좋음!)"
   ]
  }
 ],
 "metadata": {
  "kernelspec": {
   "display_name": "Python 3 (ipykernel)",
   "language": "python",
   "name": "python3"
  },
  "language_info": {
   "codemirror_mode": {
    "name": "ipython",
    "version": 3
   },
   "file_extension": ".py",
   "mimetype": "text/x-python",
   "name": "python",
   "nbconvert_exporter": "python",
   "pygments_lexer": "ipython3",
   "version": "3.12.1"
  }
 },
 "nbformat": 4,
 "nbformat_minor": 5
}
